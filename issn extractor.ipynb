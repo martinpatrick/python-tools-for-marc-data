{
 "cells": [
  {
   "cell_type": "code",
   "execution_count": 3,
   "metadata": {},
   "outputs": [],
   "source": [
    "import pymarc\n",
    "from pymarc import Record, Field\n",
    "from pymarc import MARCReader\n",
    "from tqdm import tqdm\n",
    "import csv\n",
    "import pandas as pd"
   ]
  },
  {
   "cell_type": "code",
   "execution_count": 4,
   "metadata": {},
   "outputs": [
    {
     "name": "stdout",
     "output_type": "stream",
     "text": [
      "Enter the MARC filename: all_duluth_print.mrc\n"
     ]
    },
    {
     "name": "stderr",
     "output_type": "stream",
     "text": [
      "Progress: 12876 records [00:10, 1262.41 records/s]\n"
     ]
    },
    {
     "name": "stdout",
     "output_type": "stream",
     "text": [
      "Pickled! Converting to csv...\n",
      "Pkl to csv complete\n"
     ]
    }
   ],
   "source": [
    "def extract_issn(MARCfile, headerrow):\n",
    "    \n",
    "    with open(MARCfile, 'rb') as f:\n",
    "        \n",
    "        reader = MARCReader(f, to_unicode=True, force_utf8=True)\n",
    "        results = []\n",
    "        \n",
    "        for record in tqdm(reader, desc=\"Progress\", unit=\" records\"):\n",
    "        \n",
    "            issn = \"\"        \n",
    "            if record['022']:\n",
    "                f022 = record.get_fields('022')[0]\n",
    "                if f022.get_subfields('a'):\n",
    "                    subfa = f022.get_subfields('a')[0]\n",
    "                    issn = subfa\n",
    "                    row = [issn]\n",
    "                    \n",
    "                df2 = pd.DataFrame([row], columns=headerrow)\n",
    "                results.append(df2)\n",
    "        \n",
    "        return pd.concat(results)\n",
    "    \n",
    "def csv_rename(MARCfile):\n",
    "    fcsv = str(MARCfile)\n",
    "    fcsv = fcsv.replace(\".mrc\", \"_issns.csv\")\n",
    "    return fcsv\n",
    "\n",
    "def pkl_rename(MARCfile):\n",
    "    fpkl = str(MARCfile)\n",
    "    fpkl = fpkl.replace(\".mrc\", \"_issns.pkl\")\n",
    "    return fpkl\n",
    "    \n",
    "def main():\n",
    "    MARCfile = input(\"Enter the MARC filename: \")\n",
    "    headerrow = ['ISSN']\n",
    "    issn_df = extract_issn(MARCfile, headerrow)\n",
    "    fpkl = pkl_rename(MARCfile)\n",
    "    issn_df.to_pickle(fpkl)\n",
    "    print('Pickled! Converting to csv...')\n",
    "    csvname = csv_rename(MARCfile)\n",
    "    issn_df.to_csv(csvname, encoding='utf8', index=False)\n",
    "    print('Pkl to csv complete')\n",
    "\n",
    "main()"
   ]
  },
  {
   "cell_type": "code",
   "execution_count": null,
   "metadata": {},
   "outputs": [],
   "source": []
  }
 ],
 "metadata": {
  "kernelspec": {
   "display_name": "Python 3",
   "language": "python",
   "name": "python3"
  },
  "language_info": {
   "codemirror_mode": {
    "name": "ipython",
    "version": 3
   },
   "file_extension": ".py",
   "mimetype": "text/x-python",
   "name": "python",
   "nbconvert_exporter": "python",
   "pygments_lexer": "ipython3",
   "version": "3.7.3"
  }
 },
 "nbformat": 4,
 "nbformat_minor": 2
}
